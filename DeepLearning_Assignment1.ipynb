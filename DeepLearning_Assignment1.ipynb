{
 "cells": [
  {
   "cell_type": "markdown",
   "id": "b41ea721",
   "metadata": {},
   "source": [
    "# Deep Learning - CT 5133\n",
    "\n",
    "## Assignment 1\n",
    "\n",
    "### Author 1: Sharaj Jagadeesan [23100668], MSc. Data Analytics\n",
    "### Author 2: Jason Winston Martin [23101224], MSc. Data Analytics\n"
   ]
  },
  {
   "cell_type": "code",
   "execution_count": null,
   "id": "40524e39",
   "metadata": {},
   "outputs": [],
   "source": []
  }
 ],
 "metadata": {
  "kernelspec": {
   "display_name": "Python 3 (ipykernel)",
   "language": "python",
   "name": "python3"
  },
  "language_info": {
   "codemirror_mode": {
    "name": "ipython",
    "version": 3
   },
   "file_extension": ".py",
   "mimetype": "text/x-python",
   "name": "python",
   "nbconvert_exporter": "python",
   "pygments_lexer": "ipython3",
   "version": "3.11.5"
  }
 },
 "nbformat": 4,
 "nbformat_minor": 5
}
